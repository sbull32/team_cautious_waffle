{
 "cells": [
  {
   "cell_type": "code",
   "execution_count": 3,
   "id": "ae154c90",
   "metadata": {},
   "outputs": [],
   "source": [
    "# Import classes\n",
    "import pandas as pd\n",
    "from sportsipy.nfl.teams import Teams\n",
    "from sportsipy.nfl.roster import Player\n",
    "from sportsipy.nfl.roster import Roster\n",
    "from sportsipy.nfl.boxscore import Boxscore\n",
    "from sportsipy.nfl.schedule import Schedule\n",
    "from pathlib import Path\n",
    "import matplotlib.pyplot as plt\n",
    "from sklearn.linear_model import LinearRegression"
   ]
  },
  {
   "cell_type": "code",
   "execution_count": null,
   "id": "89d679bf",
   "metadata": {},
   "outputs": [],
   "source": [
    "nfl_2020_df = training dataset using statistics out of 2020 nfl season"
   ]
  },
  {
   "cell_type": "code",
   "execution_count": null,
   "id": "3b6f3b6a",
   "metadata": {},
   "outputs": [],
   "source": [
    "# the model will use different independent variables depending on position\n",
    "if position == 'QB':\n",
    "    X = nfl_2020_df[['completed_passes','attempted_passes','passing_yards', 'passing_touchdowns', 'quarterback_rating', 'interceptions_thrown', 'times_sacked','fumbles_lost']]\n",
    "elif position == 'RB':\n",
    "    X = nfl_2020_df[['rush_attempts','rush_yards','rushing_touchdowns','receptions','receiving_yards','receiving_touchdowns','fumbles_lost']]\n",
    "elif position == 'WR' or 'TE':\n",
    "    X = nfl_2020_df[['times_pass_target','receptions','receiving_yards','receiving_touchdowns','longest_reception','fumbles_lost']]\n",
    "else:\n",
    "    print('Invalid position entered')\n",
    "    return\n",
    "\n",
    "y = df.fantasy_points\n",
    "model = linear_model.LinearRegression()\n",
    "model.fit(X, y)\n",
    "\n",
    "return model"
   ]
  },
  {
   "cell_type": "code",
   "execution_count": null,
   "id": "1766c941",
   "metadata": {},
   "outputs": [],
   "source": [
    "y_pred = model.predict(X)"
   ]
  },
  {
   "cell_type": "code",
   "execution_count": null,
   "id": "feb18d74",
   "metadata": {},
   "outputs": [],
   "source": [
    "# Fantasy points scored function\n",
    "\n",
    "nfl_2020_df['fantasy_points'] = nfl_2020_df['passing_touchdowns']*4 + nfl_2020_df['passing_yards']*.04\n",
    "+ nfl_2020_df['rush_yards']*.1 + nfl_2020_df['rushing_touchdowns']*6 + nfl_2020_df['receptions']\n",
    "+ nfl_2020_df['receiving_yards']*.1 + nfl_2020_df['receiving_touchdowns']*6 - nfl_2020_df['fumbles_lost']\n",
    "- nfl_2020_df['interceptions_thrown'] + (if 'passing_yards' > 300, 3, 0) + (if 'rush_yards' > 100, 3, 0)\n",
    "+ (if 'receiving_yards' > 100, 3, 0)"
   ]
  },
  {
   "cell_type": "code",
   "execution_count": null,
   "id": "acfbef61",
   "metadata": {},
   "outputs": [],
   "source": []
  },
  {
   "cell_type": "code",
   "execution_count": null,
   "id": "6633a8c3",
   "metadata": {},
   "outputs": [],
   "source": []
  },
  {
   "cell_type": "code",
   "execution_count": null,
   "id": "5535f92d",
   "metadata": {},
   "outputs": [],
   "source": []
  }
 ],
 "metadata": {
  "kernelspec": {
   "display_name": "mlenv",
   "language": "python",
   "name": "mlenv"
  },
  "language_info": {
   "codemirror_mode": {
    "name": "ipython",
    "version": 3
   },
   "file_extension": ".py",
   "mimetype": "text/x-python",
   "name": "python",
   "nbconvert_exporter": "python",
   "pygments_lexer": "ipython3",
   "version": "3.7.10"
  }
 },
 "nbformat": 4,
 "nbformat_minor": 5
}
